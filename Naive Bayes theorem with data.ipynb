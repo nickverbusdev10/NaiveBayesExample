{
 "cells": [
  {
   "cell_type": "code",
   "execution_count": 1,
   "id": "9d640600",
   "metadata": {},
   "outputs": [],
   "source": [
    "import pandas as pd"
   ]
  },
  {
   "cell_type": "code",
   "execution_count": 13,
   "id": "0f9ed7e1",
   "metadata": {},
   "outputs": [],
   "source": [
    "adataframe = pd.read_excel(r'yourpath\\InsuranceByState.xls',sheet_name = 'usethisone') "
   ]
  },
  {
   "cell_type": "code",
   "execution_count": 14,
   "id": "5a9e02a9",
   "metadata": {},
   "outputs": [
    {
     "name": "stdout",
     "output_type": "stream",
     "text": [
      "<class 'pandas.core.frame.DataFrame'>\n",
      "RangeIndex: 50 entries, 0 to 49\n",
      "Data columns (total 7 columns):\n",
      " #   Column                                               Non-Null Count  Dtype  \n",
      "---  ------                                               --------------  -----  \n",
      " 0   State                                                50 non-null     object \n",
      " 1   Medicaid Expansion State?        Yes (Y) or No (N)1  50 non-null     object \n",
      " 2   2010 Uninsured                                       50 non-null     float64\n",
      " 3   2018 Uninsured                                       50 non-null     float64\n",
      " 4   2019 Uninsured                                       50 non-null     float64\n",
      " 5   Difference in Uninsured 2019 2018                    50 non-null     float64\n",
      " 6   2019 less 2010.2                                     50 non-null     float64\n",
      "dtypes: float64(5), object(2)\n",
      "memory usage: 2.9+ KB\n"
     ]
    }
   ],
   "source": [
    "adataframe.info()"
   ]
  },
  {
   "cell_type": "code",
   "execution_count": 15,
   "id": "8c606081",
   "metadata": {},
   "outputs": [
    {
     "data": {
      "text/html": [
       "<div>\n",
       "<style scoped>\n",
       "    .dataframe tbody tr th:only-of-type {\n",
       "        vertical-align: middle;\n",
       "    }\n",
       "\n",
       "    .dataframe tbody tr th {\n",
       "        vertical-align: top;\n",
       "    }\n",
       "\n",
       "    .dataframe thead th {\n",
       "        text-align: right;\n",
       "    }\n",
       "</style>\n",
       "<table border=\"1\" class=\"dataframe\">\n",
       "  <thead>\n",
       "    <tr style=\"text-align: right;\">\n",
       "      <th></th>\n",
       "      <th>State</th>\n",
       "      <th>Medicaid Expansion State?        Yes (Y) or No (N)1</th>\n",
       "      <th>2010 Uninsured</th>\n",
       "      <th>2018 Uninsured</th>\n",
       "      <th>2019 Uninsured</th>\n",
       "      <th>Difference in Uninsured 2019 2018</th>\n",
       "      <th>2019 less 2010.2</th>\n",
       "    </tr>\n",
       "  </thead>\n",
       "  <tbody>\n",
       "    <tr>\n",
       "      <th>0</th>\n",
       "      <td>Alabama</td>\n",
       "      <td>N</td>\n",
       "      <td>14.6</td>\n",
       "      <td>10.0</td>\n",
       "      <td>9.7</td>\n",
       "      <td>-0.3</td>\n",
       "      <td>-4.9</td>\n",
       "    </tr>\n",
       "    <tr>\n",
       "      <th>1</th>\n",
       "      <td>Alaska</td>\n",
       "      <td>Y</td>\n",
       "      <td>19.9</td>\n",
       "      <td>12.6</td>\n",
       "      <td>12.2</td>\n",
       "      <td>-0.4</td>\n",
       "      <td>-7.6</td>\n",
       "    </tr>\n",
       "    <tr>\n",
       "      <th>2</th>\n",
       "      <td>Arizona</td>\n",
       "      <td>Y</td>\n",
       "      <td>16.9</td>\n",
       "      <td>10.6</td>\n",
       "      <td>11.3</td>\n",
       "      <td>0.7</td>\n",
       "      <td>-5.6</td>\n",
       "    </tr>\n",
       "    <tr>\n",
       "      <th>3</th>\n",
       "      <td>Arkansas</td>\n",
       "      <td>Y</td>\n",
       "      <td>17.5</td>\n",
       "      <td>8.2</td>\n",
       "      <td>9.1</td>\n",
       "      <td>0.9</td>\n",
       "      <td>-8.3</td>\n",
       "    </tr>\n",
       "    <tr>\n",
       "      <th>4</th>\n",
       "      <td>California</td>\n",
       "      <td>Y</td>\n",
       "      <td>18.5</td>\n",
       "      <td>7.2</td>\n",
       "      <td>7.7</td>\n",
       "      <td>0.5</td>\n",
       "      <td>-10.8</td>\n",
       "    </tr>\n",
       "  </tbody>\n",
       "</table>\n",
       "</div>"
      ],
      "text/plain": [
       "        State Medicaid Expansion State?        Yes (Y) or No (N)1  \\\n",
       "0     Alabama                                                  N    \n",
       "1      Alaska                                                  Y    \n",
       "2     Arizona                                                  Y    \n",
       "3    Arkansas                                                  Y    \n",
       "4  California                                                  Y    \n",
       "\n",
       "   2010 Uninsured  2018 Uninsured  2019 Uninsured  \\\n",
       "0            14.6            10.0             9.7   \n",
       "1            19.9            12.6            12.2   \n",
       "2            16.9            10.6            11.3   \n",
       "3            17.5             8.2             9.1   \n",
       "4            18.5             7.2             7.7   \n",
       "\n",
       "   Difference in Uninsured 2019 2018  2019 less 2010.2  \n",
       "0                               -0.3              -4.9  \n",
       "1                               -0.4              -7.6  \n",
       "2                                0.7              -5.6  \n",
       "3                                0.9              -8.3  \n",
       "4                                0.5             -10.8  "
      ]
     },
     "execution_count": 15,
     "metadata": {},
     "output_type": "execute_result"
    }
   ],
   "source": [
    "adataframe.head()"
   ]
  },
  {
   "cell_type": "code",
   "execution_count": 16,
   "id": "e284f288",
   "metadata": {},
   "outputs": [],
   "source": [
    "adataframe = adataframe.drop(['Difference in Uninsured 2019 2018'],axis=1)"
   ]
  },
  {
   "cell_type": "code",
   "execution_count": 17,
   "id": "b8c50d9b",
   "metadata": {},
   "outputs": [],
   "source": [
    "adataframe = adataframe.drop(['2019 less 2010.2'],axis=1)"
   ]
  },
  {
   "cell_type": "code",
   "execution_count": 18,
   "id": "f07b7e95",
   "metadata": {},
   "outputs": [],
   "source": [
    "adataframe = adataframe.drop(['State'],axis=1)"
   ]
  },
  {
   "cell_type": "code",
   "execution_count": 29,
   "id": "2f2566a9",
   "metadata": {},
   "outputs": [],
   "source": [
    "df2 = adataframe.replace('Y',1)\n",
    "df2 = df2.replace('N',0)"
   ]
  },
  {
   "cell_type": "code",
   "execution_count": 30,
   "id": "59217f03",
   "metadata": {},
   "outputs": [
    {
     "name": "stdout",
     "output_type": "stream",
     "text": [
      "<class 'pandas.core.frame.DataFrame'>\n",
      "RangeIndex: 50 entries, 0 to 49\n",
      "Data columns (total 4 columns):\n",
      " #   Column                                               Non-Null Count  Dtype  \n",
      "---  ------                                               --------------  -----  \n",
      " 0   Medicaid Expansion State?        Yes (Y) or No (N)1  50 non-null     int64  \n",
      " 1   2010 Uninsured                                       50 non-null     float64\n",
      " 2   2018 Uninsured                                       50 non-null     float64\n",
      " 3   2019 Uninsured                                       50 non-null     float64\n",
      "dtypes: float64(3), int64(1)\n",
      "memory usage: 1.7 KB\n"
     ]
    }
   ],
   "source": [
    "df2.info()"
   ]
  },
  {
   "cell_type": "code",
   "execution_count": 31,
   "id": "bdce4f31",
   "metadata": {},
   "outputs": [],
   "source": [
    "df3 = df2"
   ]
  },
  {
   "cell_type": "code",
   "execution_count": 32,
   "id": "88b83896",
   "metadata": {},
   "outputs": [],
   "source": [
    "from sklearn.naive_bayes import GaussianNB\n",
    "from sklearn.model_selection import train_test_split\n",
    "from sklearn import metrics"
   ]
  },
  {
   "cell_type": "code",
   "execution_count": 35,
   "id": "5be35dc1",
   "metadata": {},
   "outputs": [],
   "source": [
    "x = df2.drop(['Medicaid Expansion State?        Yes (Y) or No (N)1'],axis=1)\n",
    "\n",
    "y = df2['Medicaid Expansion State?        Yes (Y) or No (N)1']"
   ]
  },
  {
   "cell_type": "code",
   "execution_count": 36,
   "id": "33970afd",
   "metadata": {},
   "outputs": [],
   "source": [
    "x_train, x_test, y_train, y_test = train_test_split(x, y, test_size=0.2, random_state=1)"
   ]
  },
  {
   "cell_type": "code",
   "execution_count": 37,
   "id": "cea354ed",
   "metadata": {},
   "outputs": [],
   "source": [
    "ngd = GaussianNB()"
   ]
  },
  {
   "cell_type": "code",
   "execution_count": 38,
   "id": "e3dd868e",
   "metadata": {},
   "outputs": [
    {
     "data": {
      "text/plain": [
       "GaussianNB()"
      ]
     },
     "execution_count": 38,
     "metadata": {},
     "output_type": "execute_result"
    }
   ],
   "source": [
    "ngd.fit(x_train,y_train)"
   ]
  },
  {
   "cell_type": "code",
   "execution_count": 39,
   "id": "713b4235",
   "metadata": {},
   "outputs": [],
   "source": [
    "y_predict = ngd.predict(x_test)"
   ]
  },
  {
   "cell_type": "code",
   "execution_count": 41,
   "id": "00c5065f",
   "metadata": {},
   "outputs": [
    {
     "data": {
      "text/plain": [
       "0.7"
      ]
     },
     "execution_count": 41,
     "metadata": {},
     "output_type": "execute_result"
    }
   ],
   "source": [
    "metrics.accuracy_score(y_test,y_predict)"
   ]
  },
  {
   "cell_type": "code",
   "execution_count": 42,
   "id": "d024c07e",
   "metadata": {},
   "outputs": [
    {
     "data": {
      "text/plain": [
       "0.8333333333333334"
      ]
     },
     "execution_count": 42,
     "metadata": {},
     "output_type": "execute_result"
    }
   ],
   "source": [
    "metrics.precision_score(y_test,y_predict)"
   ]
  },
  {
   "cell_type": "code",
   "execution_count": 45,
   "id": "6d1ba9b0",
   "metadata": {},
   "outputs": [
    {
     "name": "stdout",
     "output_type": "stream",
     "text": [
      "              precision    recall  f1-score   support\n",
      "\n",
      "           0       0.50      0.67      0.57         3\n",
      "           1       0.83      0.71      0.77         7\n",
      "\n",
      "    accuracy                           0.70        10\n",
      "   macro avg       0.67      0.69      0.67        10\n",
      "weighted avg       0.73      0.70      0.71        10\n",
      "\n"
     ]
    }
   ],
   "source": [
    "print(metrics.classification_report(y_test, y_predict))"
   ]
  },
  {
   "cell_type": "code",
   "execution_count": null,
   "id": "c35a27f8",
   "metadata": {},
   "outputs": [],
   "source": [
    "#Trying something crazy, it doesn't work, ignore down below"
   ]
  },
  {
   "cell_type": "code",
   "execution_count": 54,
   "id": "58f33254",
   "metadata": {},
   "outputs": [
    {
     "name": "stderr",
     "output_type": "stream",
     "text": [
      "<ipython-input-54-acbef64ce98e>:8: SettingWithCopyWarning: \n",
      "A value is trying to be set on a copy of a slice from a DataFrame\n",
      "\n",
      "See the caveats in the documentation: https://pandas.pydata.org/pandas-docs/stable/user_guide/indexing.html#returning-a-view-versus-a-copy\n",
      "  y1[i] = floor(y1[i])\n"
     ]
    }
   ],
   "source": [
    "from math import floor\n",
    "\n",
    "x1 = df3.drop(['2019 Uninsured'], axis = 1)\n",
    "\n",
    "y1 = df3['2019 Uninsured']\n",
    "\n",
    "for i in range(len(y1)):\n",
    "    y1[i] = floor(y1[i])"
   ]
  },
  {
   "cell_type": "code",
   "execution_count": 91,
   "id": "132dabf9",
   "metadata": {},
   "outputs": [],
   "source": [
    "x1_train, x1_test, y1_train, y1_test = train_test_split(x1, y1, test_size=0.3, random_state=4)"
   ]
  },
  {
   "cell_type": "code",
   "execution_count": 92,
   "id": "8a3002a9",
   "metadata": {},
   "outputs": [],
   "source": [
    "ngd1 = GaussianNB()"
   ]
  },
  {
   "cell_type": "code",
   "execution_count": 93,
   "id": "22082606",
   "metadata": {},
   "outputs": [
    {
     "data": {
      "text/plain": [
       "GaussianNB()"
      ]
     },
     "execution_count": 93,
     "metadata": {},
     "output_type": "execute_result"
    }
   ],
   "source": [
    "ngd1.fit(x1_train,y1_train)"
   ]
  },
  {
   "cell_type": "code",
   "execution_count": 94,
   "id": "dd84e83c",
   "metadata": {},
   "outputs": [],
   "source": [
    "y1_predict = ngd1.predict(x1_test)"
   ]
  },
  {
   "cell_type": "code",
   "execution_count": 95,
   "id": "cf7ae855",
   "metadata": {},
   "outputs": [
    {
     "data": {
      "text/plain": [
       "0.4666666666666667"
      ]
     },
     "execution_count": 95,
     "metadata": {},
     "output_type": "execute_result"
    }
   ],
   "source": [
    "metrics.accuracy_score(y1_test,y1_predict)"
   ]
  },
  {
   "cell_type": "code",
   "execution_count": 90,
   "id": "5243eea2",
   "metadata": {},
   "outputs": [
    {
     "name": "stdout",
     "output_type": "stream",
     "text": [
      "              precision    recall  f1-score   support\n",
      "\n",
      "         4.0       0.00      0.00      0.00         1\n",
      "         5.0       0.40      0.67      0.50         3\n",
      "         6.0       0.00      0.00      0.00         3\n",
      "         7.0       0.50      1.00      0.67         2\n",
      "         8.0       1.00      0.50      0.67         2\n",
      "        10.0       1.00      0.50      0.67         2\n",
      "        12.0       0.00      0.00      0.00         0\n",
      "        13.0       0.00      0.00      0.00         0\n",
      "\n",
      "    accuracy                           0.46        13\n",
      "   macro avg       0.36      0.33      0.31        13\n",
      "weighted avg       0.48      0.46      0.42        13\n",
      "\n"
     ]
    },
    {
     "name": "stderr",
     "output_type": "stream",
     "text": [
      "C:\\Users\\Nick\\miniconda3\\lib\\site-packages\\sklearn\\metrics\\_classification.py:1248: UndefinedMetricWarning: Precision and F-score are ill-defined and being set to 0.0 in labels with no predicted samples. Use `zero_division` parameter to control this behavior.\n",
      "  _warn_prf(average, modifier, msg_start, len(result))\n",
      "C:\\Users\\Nick\\miniconda3\\lib\\site-packages\\sklearn\\metrics\\_classification.py:1248: UndefinedMetricWarning: Recall and F-score are ill-defined and being set to 0.0 in labels with no true samples. Use `zero_division` parameter to control this behavior.\n",
      "  _warn_prf(average, modifier, msg_start, len(result))\n",
      "C:\\Users\\Nick\\miniconda3\\lib\\site-packages\\sklearn\\metrics\\_classification.py:1248: UndefinedMetricWarning: Precision and F-score are ill-defined and being set to 0.0 in labels with no predicted samples. Use `zero_division` parameter to control this behavior.\n",
      "  _warn_prf(average, modifier, msg_start, len(result))\n",
      "C:\\Users\\Nick\\miniconda3\\lib\\site-packages\\sklearn\\metrics\\_classification.py:1248: UndefinedMetricWarning: Recall and F-score are ill-defined and being set to 0.0 in labels with no true samples. Use `zero_division` parameter to control this behavior.\n",
      "  _warn_prf(average, modifier, msg_start, len(result))\n",
      "C:\\Users\\Nick\\miniconda3\\lib\\site-packages\\sklearn\\metrics\\_classification.py:1248: UndefinedMetricWarning: Precision and F-score are ill-defined and being set to 0.0 in labels with no predicted samples. Use `zero_division` parameter to control this behavior.\n",
      "  _warn_prf(average, modifier, msg_start, len(result))\n",
      "C:\\Users\\Nick\\miniconda3\\lib\\site-packages\\sklearn\\metrics\\_classification.py:1248: UndefinedMetricWarning: Recall and F-score are ill-defined and being set to 0.0 in labels with no true samples. Use `zero_division` parameter to control this behavior.\n",
      "  _warn_prf(average, modifier, msg_start, len(result))\n"
     ]
    }
   ],
   "source": [
    "print(metrics.classification_report(y1_test, y1_predict))"
   ]
  },
  {
   "cell_type": "code",
   "execution_count": null,
   "id": "ae507d32",
   "metadata": {},
   "outputs": [],
   "source": []
  }
 ],
 "metadata": {
  "kernelspec": {
   "display_name": "Python 3",
   "language": "python",
   "name": "python3"
  },
  "language_info": {
   "codemirror_mode": {
    "name": "ipython",
    "version": 3
   },
   "file_extension": ".py",
   "mimetype": "text/x-python",
   "name": "python",
   "nbconvert_exporter": "python",
   "pygments_lexer": "ipython3",
   "version": "3.9.1"
  }
 },
 "nbformat": 4,
 "nbformat_minor": 5
}
